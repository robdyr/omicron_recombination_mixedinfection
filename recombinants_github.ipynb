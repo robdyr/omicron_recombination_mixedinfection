{
 "cells": [
  {
   "cell_type": "markdown",
   "metadata": {},
   "source": [
    "# Purpose\n",
    "To illustrate mutations that differentiate between BA.1 and BA.2.\n",
    "Based on an alignment of 10 sequences each, mutations that differentiate between BA.1 and BA.2 are listed. In addition to this, 4 mutations only appear to be present in true BA.3. Note that the mutations can be changed, e.g. BA.2 also occurs with S: 69-70 deletion which in the list below are classified as mutations as typical of BA.1.\n",
    "\n",
    "NOTE that the sequences in the input file must be aligned with Wuhan-Hu-1, use for example through nextalign or nextclade.\n",
    "\n",
    "The script requires pandas and BioPython.\n",
    "\n",
    "### Mixed infections\n",
    "A position is counted as mixed base if it is a \"correct\" mix of the base for BA.1 and BA.2 on the position, if the two variants have C and T respectively on the position, Y is counted as base for mixed infection."
   ]
  },
  {
   "cell_type": "code",
   "execution_count": null,
   "metadata": {},
   "outputs": [],
   "source": [
    "import pandas as pd\n",
    "from Bio import SeqIO \n",
    "from Bio.SeqRecord import SeqRecord\n",
    "from matplotlib import pyplot as plt"
   ]
  },
  {
   "cell_type": "code",
   "execution_count": null,
   "metadata": {},
   "outputs": [],
   "source": [
    "# list of nucletide positions differentiating BA.1 from BA.2 and positions with specific mutations for BA.3\n",
    "\n",
    "list_pos = [670,832,2790,2832,4184,4321,5386,6513,6514,6515,8393,9344,9424,9534,9866,10198,10447,11235,11285,11286,11287,11537,12880,13195,15240,15714,17410,19955,20055,21618,21762,21765,21766,21767,21768,21769,21770,21846,21987,21988,21989,21990,21991,21992,21993,21994,21995,22194,22195,22196,22200,22673,22688,22775,22786,22792,22898,23048,23202,24130,24503,25000,25584,26060,26858,27382,27383,27384,29510,29734,29735,29736,29737,29738,29739,29740,29741,29742,29743,29744,29745,29746,29747,29748,29749,29750,29751,29752,29753,29754,29755,29756,29757,29758,29759]\n",
    "list_BA1 = [\"T\",\"0\",\"C\",\"G\",\"G\",\"C\",\"G\",\"-\",\"-\",\"-\",\"A\",\"C\",\"A\",\"C\",\"C\",\"C\",\"G\",\"0\",\"-\",\"-\",\"-\",\"G\",\"C\",\"C\",\"T\",\"C\",\"C\",\"C\",\"A\",\"C\",\"T\",\"-\",\"-\",\"-\",\"-\",\"-\",\"-\",\"T\",\"-\",\"-\",\"-\",\"-\",\"-\",\"-\",\"-\",\"-\",\"-\",\"-\",\"-\",\"-\",\"T\",\"C\",\"A\",\"G\",\"A\",\"C\",\"A\",\"A\",\"A\",\"A\",\"T\",\"0\",\"0\",\"C\",\"C\",\"G\",\"A\",\"T\",\"A\",\"G\",\"A\",\"G\",\"G\",\"C\",\"C\",\"A\",\"C\",\"G\",\"C\",\"G\",\"G\",\"A\",\"G\",\"T\",\"A\",\"C\",\"G\",\"A\",\"T\",\"C\",\"G\",\"A\",\"G\",\"T\",\"G\"]\n",
    "list_BA2 = [\"G\",\"0\",\"T\",\"A\",\"A\",\"T\",\"T\",\"G\",\"T\",\"T\",\"G\",\"T\",\"G\",\"T\",\"T\",\"T\",\"A\",\"0\",\"T\",\"T\",\"G\",\"A\",\"T\",\"T\",\"C\",\"T\",\"T\",\"T\",\"G\",\"T\",\"C\",\"T\",\"A\",\"C\",\"A\",\"T\",\"G\",\"C\",\"A\",\"T\",\"G\",\"T\",\"T\",\"T\",\"A\",\"T\",\"T\",\"A\",\"T\",\"T\",\"G\",\"T\",\"G\",\"A\",\"C\",\"T\",\"G\",\"G\",\"C\",\"C\",\"C\",\"0\",\"0\",\"T\",\"T\",\"C\",\"T\",\"C\",\"-\",\"-\",\"-\",\"-\",\"-\",\"-\",\"-\",\"-\",\"-\",\"-\",\"-\",\"-\",\"-\",\"-\",\"-\",\"-\",\"-\",\"-\",\"-\",\"-\",\"-\",\"-\",\"-\",\"-\",\"-\",\"-\",\"-\"]\n",
    "list_ambi =[\"K\",\"0\",\"Y\",\"R\",\"R\",\"Y\",\"K\",\"0\",\"0\",\"0\",\"R\",\"Y\",\"R\",\"Y\",\"Y\",\"Y\",\"R\",\"0\",\"0\",\"0\",\"0\",\"R\",\"Y\",\"Y\",\"Y\",\"Y\",\"Y\",\"Y\",\"R\",\"Y\",\"Y\",\"0\",\"0\",\"0\",\"0\",\"0\",\"0\",\"Y\",\"0\",\"0\",\"0\",\"0\",\"0\",\"0\",\"0\",\"0\",\"0\",\"0\",\"0\",\"0\",\"K\",\"Y\",\"R\",\"R\",\"M\",\"Y\",\"R\",\"R\",\"M\",\"M\",\"Y\",\"0\",\"0\",\"Y\",\"Y\",\"S\",\"W\",\"Y\",\"0\",\"0\",\"0\",\"0\",\"0\",\"0\",\"0\",\"0\",\"0\",\"0\",\"0\",\"0\",\"0\",\"0\",\"0\",\"0\",\"0\",\"0\",\"0\",\"0\",\"0\",\"0\",\"0\",\"0\",\"0\",\"0\",\"0\"]\n",
    "list_BA3 = [\"0\",\"T\",\"0\",\"0\",\"0\",\"0\",\"0\",\"0\",\"0\",\"0\",\"0\",\"0\",\"0\",\"0\",\"0\",\"0\",\"0\",\"T\",\"0\",\"0\",\"0\",\"0\",\"0\",\"0\",\"0\",\"0\",\"0\",\"0\",\"0\",\"0\",\"0\",\"0\",\"0\",\"0\",\"0\",\"0\",\"0\",\"0\",\"0\",\"0\",\"0\",\"0\",\"0\",\"0\",\"0\",\"0\",\"0\",\"0\",\"0\",\"0\",\"0\",\"0\",\"0\",\"0\",\"0\",\"0\",\"0\",\"0\",\"0\",\"0\",\"0\",\"C\",\"C\",\"0\",\"0\",\"0\",\"0\",\"0\",\"0\",\"0\",\"0\",\"0\",\"0\",\"0\",\"0\",\"0\",\"0\",\"0\",\"0\",\"0\",\"0\",\"0\",\"0\",\"0\",\"0\",\"0\",\"0\",\"0\",\"0\",\"0\",\"0\",\"0\",\"0\",\"0\",\"0\"]\n"
   ]
  },
  {
   "cell_type": "code",
   "execution_count": null,
   "metadata": {},
   "outputs": [],
   "source": [
    "with open(\"query.fasta\") as handle:\n",
    "    for record in SeqIO.parse(handle, \"fasta\"):    \n",
    "        seq = record.seq\n",
    "        fasta_header = record.id\n",
    "        result = []\n",
    "        nucl = []\n",
    "        i = 0\n",
    "        try:\n",
    "            while i <91:    \n",
    "                pos = list_pos[i]-1\n",
    "                nucl.append(seq[pos])\n",
    "                if seq[pos] == list_BA1[i]:\n",
    "                    result.append(1) \n",
    "                    i = i + 1\n",
    "                elif seq [pos] == list_BA2[i]:\n",
    "                    result.append(2)\n",
    "                    i = i + 1 \n",
    "                elif seq [pos] == list_ambi[i]:\n",
    "                    result.append(1.5)\n",
    "                    i = i + 1 \n",
    "                elif seq [pos] == list_BA3[i]:\n",
    "                    result.append(3)\n",
    "                    i = i + 1 \n",
    "                elif seq [pos] == 'N':\n",
    "                    result.append(.5)\n",
    "                    i = i + 1 \n",
    "                else:\n",
    "                    result.append(0)\n",
    "                    i = i + 1\n",
    "        except:\n",
    "            print(\"Error: \", fasta_header)\n",
    "        df_position = pd.DataFrame(list_pos)\n",
    "        df_nucl = pd.DataFrame(nucl)\n",
    "        df_result = pd.DataFrame(result)\n",
    "        df_summary = pd.concat([df_position,df_result,df_nucl],axis=1)\n",
    "        df_summary.columns = ['position','BA-variant','nucleotide']\n",
    "        export = df_summary.T\n",
    "        ax = df_summary.plot(x ='position', y='BA-variant', kind = 'scatter',yticks=[0,.5,1,1.5,2,3],title=fasta_header)\n",
    "        ax.set_yticklabels(['Other','N','BA.1','Mixed BA.1/BA.2','BA.2','BA.3'])\n",
    "        export.to_csv(fasta_header+'.csv',index=False)\n",
    "        plt.savefig(fasta_header+'.png', format='png')\n",
    "        plt.show()\n",
    "        plt.close()"
   ]
  }
 ],
 "metadata": {
  "kernelspec": {
   "display_name": "Python 3",
   "language": "python",
   "name": "python3"
  },
  "language_info": {
   "codemirror_mode": {
    "name": "ipython",
    "version": 3
   },
   "file_extension": ".py",
   "mimetype": "text/x-python",
   "name": "python",
   "nbconvert_exporter": "python",
   "pygments_lexer": "ipython3",
   "version": "3.7.4"
  }
 },
 "nbformat": 4,
 "nbformat_minor": 4
}
